{
 "cells": [
  {
   "cell_type": "code",
   "execution_count": null,
   "id": "bce5afae",
   "metadata": {},
   "outputs": [
    {
     "name": "stdout",
     "output_type": "stream",
     "text": [
      "['/home/abdullahm/jaleel/Review_analysis/notebooks', '', '/home/abdullahm/miniconda3/envs/aaai2/lib/python3.11/site-packages', '/home/abdullahm/miniconda3/envs/jaleel_btp/lib/python313.zip', '/home/abdullahm/miniconda3/envs/jaleel_btp/lib/python3.13', '/home/abdullahm/miniconda3/envs/jaleel_btp/lib/python3.13/lib-dynload', '/home/abdullahm/miniconda3/envs/jaleel_btp/lib/python3.13/site-packages']\n"
     ]
    }
   ],
   "source": [
    "import sys\n",
    "# print(sys.path)\n",
    "sys.path.append(\"/home/abdullahm/jaleel/Review_analysis\")"
   ]
  },
  {
   "cell_type": "code",
   "execution_count": 2,
   "id": "00f75af2",
   "metadata": {},
   "outputs": [],
   "source": [
    "from src.util.config import load_config\n",
    "\n",
    "cfg = load_config()\n"
   ]
  },
  {
   "cell_type": "markdown",
   "id": "80bd9de1",
   "metadata": {},
   "source": [
    "### convert Raw data to json and save it\n"
   ]
  },
  {
   "cell_type": "code",
   "execution_count": 5,
   "id": "7bb0299a",
   "metadata": {},
   "outputs": [],
   "source": [
    "import pickle as pkl\n",
    "import json\n",
    "\n",
    "def pkl_to_json(src_path, target_path):\n",
    "    # load pickle (binary mode)\n",
    "    with open(src_path, 'rb') as f:  \n",
    "        data = pkl.load(f)\n",
    "    \n",
    "    # save JSON (text mode)\n",
    "    with open(target_path, 'w') as f:\n",
    "        json.dump(data, f, indent=2, default=str)  \n",
    "        # default=str converts unsupported types to string\n"
   ]
  },
  {
   "cell_type": "code",
   "execution_count": 8,
   "id": "5a1bd0aa",
   "metadata": {},
   "outputs": [],
   "source": [
    "pkl_to_json(f\"{cfg[\"paths\"]['data_dir']}/raw/test_all.pkl\", f\"{cfg[\"paths\"][\"data_dir\"]}/test.json\")"
   ]
  },
  {
   "cell_type": "markdown",
   "id": "54036f5b",
   "metadata": {},
   "source": [
    "### split question and answer in dataset\n"
   ]
  },
  {
   "cell_type": "code",
   "execution_count": null,
   "id": "9de84e3e",
   "metadata": {},
   "outputs": [
    {
     "name": "stdout",
     "output_type": "stream",
     "text": [
      "NO MATCH According to you, what is going well in this course? Name atleast one. I'm learning great stuff! Theory courses in IIIT Delhi are really great in my opinion, and the lesser attendance is like icing on the cake (I prefer classes with fewer students). Homeworks, lectures etc. are all going pretty well.\n",
      "NO MATCH According to you, what is going well in this course? Name atleast one. I'm learning great stuff! Theory courses in IIIT Delhi are really great in my opinion, and the lesser attendance is like icing on the cake (I prefer classes with fewer students). Homeworks, lectures etc. are all going pretty well.\n",
      "NO MATCH According to you, what is going well in this course? Name atleast one. I'm learning great stuff! Theory courses in IIIT Delhi are really great in my opinion, and the lesser attendance is like icing on the cake (I prefer classes with fewer students). Homeworks, lectures etc. are all going pretty well.\n",
      "NO MATCH According to you, what is going well in this course? Name atleast one. I'm learning great stuff! Theory courses in IIIT Delhi are really great in my opinion, and the lesser attendance is like icing on the cake (I prefer classes with fewer students). Homeworks, lectures etc. are all going pretty well.\n",
      "NO MATCH According to you, what is going well in this course? Name atleast one. I'm learning great stuff! Theory courses in IIIT Delhi are really great in my opinion, and the lesser attendance is like icing on the cake (I prefer classes with fewer students). Homeworks, lectures etc. are all going pretty well.\n",
      "NO MATCH According to you, what is going well in this course? Name atleast one. I'm learning great stuff! Theory courses in IIIT Delhi are really great in my opinion, and the lesser attendance is like icing on the cake (I prefer classes with fewer students). Homeworks, lectures etc. are all going pretty well.\n",
      "NO MATCH According to you, what is going well in this course? Name atleast one. I'm learning great stuff! Theory courses in IIIT Delhi are really great in my opinion, and the lesser attendance is like icing on the cake (I prefer classes with fewer students). Homeworks, lectures etc. are all going pretty well.\n",
      "NO MATCH According to you, what is going well in this course? Name atleast one. I'm learning great stuff! Theory courses in IIIT Delhi are really great in my opinion, and the lesser attendance is like icing on the cake (I prefer classes with fewer students). Homeworks, lectures etc. are all going pretty well.\n",
      "NO MATCH According to you, what is going well in this course? Name atleast one. I'm learning great stuff! Theory courses in IIIT Delhi are really great in my opinion, and the lesser attendance is like icing on the cake (I prefer classes with fewer students). Homeworks, lectures etc. are all going pretty well.\n",
      "Saved /home/abdullahm/jaleel/Review_analysis/data/train_split.json\n",
      "Saved /home/abdullahm/jaleel/Review_analysis/data/test_split.json\n"
     ]
    }
   ],
   "source": [
    "import json\n",
    "import re\n",
    "\n",
    "# Paths to your JSON files\n",
    "train_json_path = cfg[\"paths\"]['data_dir']+\"/train.json\"\n",
    "test_json_path  = cfg[\"paths\"]['data_dir']+\"/test.json\"\n",
    "\n",
    "output_train_json = cfg[\"paths\"]['data_dir']+\"/train_split.json\"\n",
    "output_test_json  = cfg[\"paths\"]['data_dir']+\"/test_split.json\"\n",
    "\n",
    "# List of questions\n",
    "questions = [\n",
    "    \"According to you , what is going well in this course\",\n",
    "    \"Is there anything you wish to be changed\",\n",
    "    \"Share your suggestions on how the experience could have improved\",\n",
    "    \"What helped you learn in this course\",\n",
    "    \"What changes would improve your learning\",\n",
    "    \"Comments on labs (if any) with respect to the course and your learning\",\n",
    "    \"What suggestions do you have for another student considering taking this course\",\n",
    "    \"Comments on teaching (if any) assistant(s) with respect to the course and your learning\",\n",
    "    \"Comments on tutorials (if any) with respect to the course and your learning\",\n",
    "    \"Any comment you want to make on TAs work and labs\",\n",
    "    \"According to you, what is going well in the course\",\n",
    "    \"According to you what is going well in the course\",\n",
    "    \"What changes would improve learning\",\n",
    "    \"What helped you learned in this course\",\n",
    "    \"According to you, what is going well in this course? Name atleast one.\"\n",
    "]\n",
    "\n",
    "def split_sentence_to_qa(data):\n",
    "    new_data = []\n",
    "    for item in data:\n",
    "        sentence = item.get(\"sentence\", \"\")\n",
    "        matched_question = None\n",
    "        for q in questions:\n",
    "            # Case-insensitive match; remove extra spaces\n",
    "            if sentence.lower().startswith(q.lower()):\n",
    "                matched_question = q\n",
    "                break\n",
    "        if matched_question:\n",
    "            # Extract answer\n",
    "            answer = sentence[len(matched_question):].strip(\" :,.-\")\n",
    "            item[\"question\"] = matched_question\n",
    "            item[\"answer\"] = answer\n",
    "        else:\n",
    "            # If no match, leave question empty, answer = sentence\n",
    "            print(\"NO MATCH\", item.get(\"sentence\") )\n",
    "            # item[\"question\"] = \"\"\n",
    "            # item[\"answer\"] = sentence\n",
    "        new_data.append(item)\n",
    "    return new_data\n",
    "\n",
    "def process_json(input_path, output_path):\n",
    "    # Load JSON\n",
    "    with open(input_path, \"r\") as f:\n",
    "        data = json.load(f)\n",
    "    \n",
    "    # Split sentences\n",
    "    new_data = split_sentence_to_qa(data)\n",
    "    \n",
    "    # Save new JSON\n",
    "    with open(output_path, \"w\") as f:\n",
    "        json.dump(new_data, f, indent=4)\n",
    "    \n",
    "    print(f\"Saved {output_path}\")\n",
    "\n",
    "# Process train and test JSON\n",
    "process_json(train_json_path, output_train_json)\n",
    "process_json(test_json_path, output_test_json)\n"
   ]
  },
  {
   "cell_type": "code",
   "execution_count": null,
   "id": "80d82d27",
   "metadata": {},
   "outputs": [],
   "source": []
  }
 ],
 "metadata": {
  "kernelspec": {
   "display_name": "jaleel_btp",
   "language": "python",
   "name": "python3"
  },
  "language_info": {
   "codemirror_mode": {
    "name": "ipython",
    "version": 3
   },
   "file_extension": ".py",
   "mimetype": "text/x-python",
   "name": "python",
   "nbconvert_exporter": "python",
   "pygments_lexer": "ipython3",
   "version": "3.13.5"
  }
 },
 "nbformat": 4,
 "nbformat_minor": 5
}
